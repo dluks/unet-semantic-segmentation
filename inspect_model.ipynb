{
 "cells": [
  {
   "cell_type": "code",
   "execution_count": null,
   "metadata": {},
   "outputs": [],
   "source": [
    "import numpy as np\n",
    "import matplotlib.pyplot as plt\n",
    "from utils import unpickle\n",
    "import pandas as pd\n",
    "\n",
    "%load_ext autoreload\n",
    "%autoreload 2\n",
    "%load_ext tensorboard\n",
    "# %tensorboard --logdir logs\n",
    "\n",
    "plt.style.use(\"lusk\")"
   ]
  },
  {
   "cell_type": "code",
   "execution_count": null,
   "metadata": {},
   "outputs": [],
   "source": [
    "ignore_stats = np.load(\"stats/10folds_CV_ignore_label.npy\", allow_pickle=True)\n",
    "loose_stats = np.load(\"stats/10folds_CV_loose.npy\")\n",
    "strict_stats = np.load(\"stats/10folds_CV_strict.npy\")\n",
    "simp_imp_stats = np.load(\"stats/10folds_CV_simp_imp.npy\", allow_pickle=True)"
   ]
  },
  {
   "cell_type": "code",
   "execution_count": null,
   "metadata": {},
   "outputs": [],
   "source": [
    "df = pd.DataFrame(np.c_[np.repeat(\"Unaltered\", len(loose_stats)), loose_stats], columns=[\"IoU Type\", \"Overall bIoU\", \"Tree bIoU\", \"BG bIoU\"])\n",
    "df = df.append(pd.DataFrame(np.c_[np.repeat(\"Impute (channel mean)\", len(strict_stats)), strict_stats], columns=df.columns), ignore_index=True)\n",
    "df = df.append(pd.DataFrame(np.c_[np.repeat(\"Impute (column mean)\", len(simp_imp_stats[:, -3:])), simp_imp_stats[:, -3:]], columns=df.columns), ignore_index=True)\n",
    "df = df.append(pd.DataFrame(np.c_[np.repeat(\"Ignore\", len(ignore_stats[:, -3:])), ignore_stats[:, -3:]], columns=df.columns), ignore_index=True)\n",
    "\n",
    "for i in range(1, 4):\n",
    "    df.iloc[:, i] = df.iloc[:, i].astype(np.float32)\n",
    "    \n",
    "pd.options.display.float_format = '{:.3f}'.format"
   ]
  },
  {
   "cell_type": "code",
   "execution_count": null,
   "metadata": {},
   "outputs": [],
   "source": [
    "from rasterio import pad\n",
    "\n",
    "\n",
    "titles = [\"Overall bIoU\", \"Tree bIoU\", \"BG bIoU\"]\n",
    "\n",
    "_, ax = plt.subplots(1, 1, figsize=(10, 4), dpi=300)\n",
    "width = 0.15\n",
    "spacing = 0.155\n",
    "r = np.arange(3)\n",
    "\n",
    "errs = {\"elinewidth\": 1, \"capsize\": 2}\n",
    "\n",
    "ax.bar(\n",
    "    r - 1.5 * spacing,\n",
    "    loose_stats.mean(axis=0),\n",
    "    width,\n",
    "    label=\"Include loose\",\n",
    "    yerr=loose_stats.std(axis=0),\n",
    "    error_kw=errs,\n",
    ")\n",
    "ax.bar(\n",
    "    r - 0.5 * spacing,\n",
    "    strict_stats.mean(axis=0),\n",
    "    width,\n",
    "    label=\"Impute loose (channel mean)\",\n",
    "    yerr=strict_stats.std(axis=0),\n",
    "    error_kw=errs,\n",
    ")\n",
    "ax.bar(\n",
    "    r + 0.5 * spacing,\n",
    "    simp_imp_stats[:, -3:].mean(axis=0),\n",
    "    width,\n",
    "    label=\"Impute loose (column mean)\",\n",
    "    yerr=simp_imp_stats[:, -3:].astype(float).std(axis=0),\n",
    "    error_kw=errs,\n",
    ")\n",
    "ax.bar(\n",
    "    r + 1.5 * spacing,\n",
    "    ignore_stats[:, -3:].mean(axis=0),\n",
    "    width,\n",
    "    label=\"Ignore loose\",\n",
    "    yerr=ignore_stats[:, -3:].astype(float).std(axis=0),\n",
    "    error_kw=errs,\n",
    ")\n",
    "ax.set_xticks(r, titles)\n",
    "ax.set_xlabel(\"IoU Type\")\n",
    "ax.set_ylabel(\"Binary IoU\")\n",
    "ax.grid()\n",
    "ax.legend(fontsize=10, loc=\"upper center\")\n",
    "ax.set_ylim(0.2, 0.95)"
   ]
  },
  {
   "cell_type": "code",
   "execution_count": null,
   "metadata": {},
   "outputs": [],
   "source": [
    "loss = unpickle(ignore_stats[:, 0])\n",
    "val_loss = unpickle(ignore_stats[:, 1])\n",
    "iou = unpickle(ignore_stats[:, 2])\n",
    "val_iou = unpickle(ignore_stats[:, 3])\n",
    "epochs = np.arange(0, loss.shape[-1], 1)\n",
    "\n",
    "_, (ax0, ax1) = plt.subplots(1, 2, figsize=(18, 7), dpi=200)\n",
    "\n",
    "ax0.plot(epochs, loss.mean(axis=0), \"y\", label=\"Training loss\")\n",
    "ax0.plot(epochs, val_loss.mean(axis=0), \"r--\", label=\"Validation loss\")\n",
    "ax0.set_xlabel(\"Epochs\")\n",
    "ax0.set_ylabel(\"Loss\")\n",
    "ax0.legend()\n",
    "ax0.grid()\n",
    "\n",
    "ax1.plot(epochs, iou.mean(axis=0), \"y\", label=\"Training IoU\")\n",
    "ax1.plot(epochs, val_iou.mean(axis=0), \"r--\", label=\"Validation IoU\")\n",
    "ax1.set_xlabel(\"Epochs\")\n",
    "ax1.set_ylabel(\"Loss\")\n",
    "ax1.legend()\n",
    "ax1.grid()\n",
    "# ax1.set_ylim(0.492, 0.493)\n",
    "    \n",
    "# fg, ax = plt.subplots(1, 2, figsize=(11, 5), dpi=170)\n",
    "# ax[0].plot(epochs, loss, \"y\", label=\"Training loss\")\n",
    "# ax[0].plot(epochs, val_loss, \"r\", label=\"Validation loss\")\n",
    "# ax[0].set_title(\"Training and validation loss\")\n",
    "# ax[0].set_xlabel(\"Epochs\")\n",
    "# ax[0].set_ylabel(\"Loss\")\n",
    "# ax[0].legend()\n",
    "\n",
    "# ax[1].plot(epochs, acc, \"y\", label=\"Training acc\")\n",
    "# ax[1].plot(epochs, val_acc, \"r\", label=\"Validation acc\")\n",
    "# ax[1].set_title(\"Training and validation accuracy\")\n",
    "# ax[1].set_xlabel(\"Epochs\")\n",
    "# ax[1].set_ylabel(\"Accuracy\")\n",
    "# ax[1].legend()\n",
    "plt.show()"
   ]
  }
 ],
 "metadata": {
  "kernelspec": {
   "display_name": "Python 3.9.13 ('dap05')",
   "language": "python",
   "name": "python3"
  },
  "language_info": {
   "codemirror_mode": {
    "name": "ipython",
    "version": 3
   },
   "file_extension": ".py",
   "mimetype": "text/x-python",
   "name": "python",
   "nbconvert_exporter": "python",
   "pygments_lexer": "ipython3",
   "version": "3.9.13"
  },
  "orig_nbformat": 4,
  "vscode": {
   "interpreter": {
    "hash": "bf136276df7b73f579d00ffc03546cf27d68eba258d4f2ea564dd7fb6a9dd1fb"
   }
  }
 },
 "nbformat": 4,
 "nbformat_minor": 2
}
