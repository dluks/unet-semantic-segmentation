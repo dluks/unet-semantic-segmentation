{
 "cells": [
  {
   "cell_type": "markdown",
   "metadata": {},
   "source": [
    "# Watershed \"instance segmentation\" from semantic segmentation"
   ]
  },
  {
   "cell_type": "markdown",
   "metadata": {},
   "source": [
    "## Imports and fns"
   ]
  },
  {
   "cell_type": "code",
   "execution_count": null,
   "metadata": {},
   "outputs": [],
   "source": [
    "import glob\n",
    "import matplotlib.pyplot as pl\n",
    "import numpy as np\n",
    "import tifffile as tiff\n",
    "from sklearn.model_selection import train_test_split\n",
    "from keras.models import Model, load_model\n",
    "from patchify import patchify\n",
    "import napari\n",
    "import utils\n",
    "from unet import build_unet\n",
    "from mpl_toolkits.axes_grid1 import make_axes_locatable\n",
    "import matplotlib.pyplot as plt\n",
    "\n",
    "%load_ext autoreload\n",
    "%autoreload 2"
   ]
  },
  {
   "cell_type": "markdown",
   "metadata": {},
   "source": [
    "## Data preparation"
   ]
  },
  {
   "cell_type": "code",
   "execution_count": null,
   "metadata": {},
   "outputs": [],
   "source": [
    "test = sorted(utils.get_by_ext(\"../../data/hand/rgb\"))\n"
   ]
  },
  {
   "cell_type": "code",
   "execution_count": null,
   "metadata": {},
   "outputs": [],
   "source": [
    "DATA_DIR = \"../../data/\"\n",
    "_, _, X_test, y_test, _, inst_test = utils.prep_data(DATA_DIR, \"hand\", \"loose\", \"loose\", channels=3)"
   ]
  },
  {
   "cell_type": "code",
   "execution_count": null,
   "metadata": {},
   "outputs": [],
   "source": [
    "WEIGHTS = \"logs/simple_imp/20221016-172119_KF5of10_simp_imp/KF5of10_simp_imp_best_wg.h5\"\n",
    "\n",
    "input_shape = X_test.shape[1:]\n",
    "model = build_unet(input_shape)\n",
    "model.load_weights(WEIGHTS)\n",
    "y_pred = model.predict(X_test)"
   ]
  },
  {
   "cell_type": "code",
   "execution_count": null,
   "metadata": {},
   "outputs": [],
   "source": [
    "\n",
    "\n",
    "# Look through some random predictions and compare with the test images\n",
    "# for quality\n",
    "threshold = 0.8\n",
    "\n",
    "# k = np.random.randint(0, len(X_test) - 1)\n",
    "k = 183\n",
    "test_img = X_test[k]\n",
    "ground_truth = y_test[k]\n",
    "prediction = model.predict(np.expand_dims(test_img, 0))[0, :, :, 0]\n",
    "\n",
    "neighborhood_size = 10\n",
    "threshold = 6\n",
    "\n",
    "area = 40\n",
    "ratio = 0.4\n",
    "\n",
    "labels, _ = utils.watershed_labels(prediction, neighborhood_size, threshold, 0.7)\n",
    "strict_params = [55, 0.8, 0.5, 0.5, 0.5]\n",
    "params = [40, 0.95, 0.1, 0.3, 0.7]\n",
    "filtered_regions, bbox = utils.filter_labels(labels, prediction, False, *params)\n",
    "\n",
    "fig, ax = plt.subplots(1, 3, figsize=(20, 7), dpi=300)\n",
    "ax = ax.ravel()\n",
    "ax[0].set_title(\"Testing Image\")\n",
    "ax[0].imshow(test_img[:, :, :3])\n",
    "\n",
    "ax[1].set_title(\"Testing Label\")\n",
    "ax[1].imshow(ground_truth[:, :, 0], cmap=\"gray\")\n",
    "\n",
    "ax[2].set_title(\"Prediction on test image\")\n",
    "im = ax[2].imshow(prediction, vmin=0, vmax=1)\n",
    "# add color bar below chart\n",
    "# divider = make_axes_locatable(ax[2])\n",
    "# cax = divider.new_vertical(size=\"5%\", pad=0.3, pack_start=True)\n",
    "# fig.add_axes(cax)\n",
    "fig.colorbar(im, ax=[ax[2]], location=\"bottom\", pad=0.05, label=\"Prediction confidence\")\n",
    "\n",
    "# ax[3].set_title(\"Watershed instances\")\n",
    "# ax[3].imshow(test_img[..., :3])\n",
    "\n",
    "# filtered_regions = filtered_regions.astype(np.float32)\n",
    "# filtered_regions[np.where(filtered_regions == 0)] = np.nan\n",
    "# ax[3].imshow(filtered_regions, alpha=0.5, cmap=pl.cm.tab20b)\n",
    "\n",
    "# for bb in bbox:\n",
    "#     ax[3].plot(bb[0], bb[1], c=\"limegreen\", ls=\"--\", lw=1)\n",
    "\n",
    "for a in ax:\n",
    "    a.axis(\"off\")"
   ]
  },
  {
   "cell_type": "code",
   "execution_count": null,
   "metadata": {},
   "outputs": [],
   "source": [
    "# Look through some random predictions and compare with the test images\n",
    "# for quality\n",
    "threshold = 0.8\n",
    "k = np.random.randint(0, len(X_test) - 1)\n",
    "\n",
    "test_img = X_test[k]\n",
    "ground_truth = inst_test[k].astype(float)\n",
    "ground_truth[ground_truth == 0] = np.nan\n",
    "inst_count = len(np.unique(ground_truth[~np.isnan(ground_truth)]))\n",
    "prediction = model.predict(np.expand_dims(test_img, 0))[0, :, :, 0]\n",
    "\n",
    "\n",
    "\n",
    "\n",
    "neighborhood_size = 5\n",
    "threshold = 2\n",
    "\n",
    "area = 40\n",
    "ratio = 0.4\n",
    "\n",
    "labels, _ = utils.watershed_labels(prediction, neighborhood_size, threshold, 0.7)\n",
    "strict_params = [55, 0.8, 0.5, 0.5, 0.5]\n",
    "params = [40, 0.95, 0.1, 0.3, 0.7]\n",
    "filtered_regions, bbox = utils.filter_labels(labels, prediction, False, *params)\n",
    "\n",
    "fig, ax = plt.subplots(1, 4, figsize=(20, 7.25), dpi=300)\n",
    "ax = ax.ravel()\n",
    "ax[0].set_title(\"Testing Image\")\n",
    "ax[0].imshow(test_img[:, :, :3])\n",
    "\n",
    "ax[1].set_title(\"Testing Labels\")\n",
    "ax[1].imshow(ground_truth[:, :, 0], cmap=\"tab20_r\")\n",
    "obs_tree_txt = \"tree\" if inst_count == 1 else \"trees\"\n",
    "# ax[1].text(0.5,-0.1, f\"{inst_count} {obs_tree_txt}\", size=12, ha=\"center\", transform=ax[1].transAxes)\n",
    "\n",
    "ax[2].set_title(\"Prediction on test image\")\n",
    "im = ax[2].imshow(prediction, vmin=0, vmax=1)\n",
    "fig.colorbar(im, ax=[ax[2]], location=\"bottom\", pad=0.05, label=\"Prediction confidence\")\n",
    "\n",
    "ax[3].set_title(\"Watershed instances\")\n",
    "ax[3].imshow(test_img[..., :3])\n",
    "\n",
    "filtered_regions = filtered_regions.astype(np.float32)\n",
    "filtered_regions[np.where(filtered_regions == 0)] = np.nan\n",
    "ax[3].imshow(filtered_regions, alpha=0.5, cmap=pl.cm.tab20b)\n",
    "\n",
    "for bb in bbox:\n",
    "    ax[3].plot(bb[0], bb[1], c=\"limegreen\", ls=\"--\", lw=1)\n",
    "\n",
    "inst_tree_txt = \"tree\" if len(bbox) == 1 else \"trees\"\n",
    "# ax[3].text(0.5,-0.1, f\"{len(bbox)} {inst_tree_txt}\", size=12, ha=\"center\", transform=ax[3].transAxes)\n",
    "for a in ax:\n",
    "    a.axis(\"off\")"
   ]
  },
  {
   "cell_type": "markdown",
   "metadata": {},
   "source": [
    "## Get average % alignment"
   ]
  },
  {
   "cell_type": "code",
   "execution_count": null,
   "metadata": {},
   "outputs": [],
   "source": [
    "data = np.zeros((len(inst_test), 2))\n",
    "for i, (img, p) in enumerate(zip(X_test,inst_test)):\n",
    "    p = p.astype(float)\n",
    "    p[p == 0] = np.nan\n",
    "    num_inst = len(np.unique(p[~np.isnan(p)]))\n",
    "    prediction = model.predict(np.expand_dims(img, 0))[0, :, :, 0]\n",
    "    neighborhood_size = 4\n",
    "    threshold = 2\n",
    "    # area = 40\n",
    "    # ratio = 0.4\n",
    "    labels, _ = utils.watershed_labels(prediction, neighborhood_size, threshold, 0.7)\n",
    "    # strict_params = [55, 0.8, 0.5, 0.5, 0.5]\n",
    "    params = [40, 0.95, 0.1, 0.3, 0.7]\n",
    "    _, bbox = utils.filter_labels(labels, prediction, False, *params)\n",
    "    pred_inst = len(bbox)\n",
    "    # if pred_inst == num_inst:\n",
    "    #     TP = pred_inst\n",
    "    #     TN = 1\n",
    "    #     FP = FN = 0\n",
    "    # elif pred_inst < num_inst:\n",
    "    #     TP = pred_inst\n",
    "    #     TN = 1\n",
    "    #     FP = 0\n",
    "    #     FN = num_inst - pred_inst\n",
    "    # elif pred_inst > num_inst:\n",
    "    #     TP = num_inst\n",
    "    #     TN = 1\n",
    "    #     FP = pred_inst - num_inst\n",
    "    #     FN = 0\n",
    "    # acc = (TP + TN) / (TP + TN + FP + FN)\n",
    "    # prec = TP / (TP + FP)\n",
    "    # rec = TP / (TP + FN)\n",
    "    data[i][0], data[i][1] = num_inst, pred_inst"
   ]
  },
  {
   "cell_type": "code",
   "execution_count": null,
   "metadata": {},
   "outputs": [],
   "source": [
    "err = (np.abs(data[:, 1].mean() - data[:, 0].mean())) / data[:, 0].mean()"
   ]
  },
  {
   "cell_type": "code",
   "execution_count": null,
   "metadata": {},
   "outputs": [],
   "source": [
    "1 - err"
   ]
  },
  {
   "cell_type": "code",
   "execution_count": null,
   "metadata": {},
   "outputs": [],
   "source": [
    "import pandas as pd\n",
    "df = pd.DataFrame(data, columns=[\"Actual\", \"Observed\"])\n",
    "group = df.groupby([\"Observed\"])\n",
    "group.describe()"
   ]
  },
  {
   "cell_type": "code",
   "execution_count": null,
   "metadata": {},
   "outputs": [],
   "source": [
    "print(data[:, 0].mean())\n",
    "print(data[:, 1].mean())"
   ]
  },
  {
   "cell_type": "code",
   "execution_count": null,
   "metadata": {},
   "outputs": [],
   "source": [
    "plt.hist(data[:, 0], label=\"Actual\")\n",
    "plt.hist(data[:, 1], label=\"Predicted\")\n",
    "plt.legend()"
   ]
  },
  {
   "cell_type": "code",
   "execution_count": null,
   "metadata": {},
   "outputs": [],
   "source": [
    "MSE = np.sum((data[:, 0] - data[:, 1])**2) / len(data)\n",
    "RMSE = np.sqrt(MSE)"
   ]
  },
  {
   "cell_type": "code",
   "execution_count": null,
   "metadata": {},
   "outputs": [],
   "source": [
    "R2 = 1 - (np.sum((data[:, 1] - data[:, 0])**2)) / (np.sum((data[:, 0] - data[:, 0].mean())**2))"
   ]
  },
  {
   "cell_type": "code",
   "execution_count": null,
   "metadata": {},
   "outputs": [],
   "source": [
    "R2"
   ]
  },
  {
   "cell_type": "code",
   "execution_count": null,
   "metadata": {},
   "outputs": [],
   "source": [
    "nsx = [2, 4, 5, 10]\n",
    "thx = [4, 5, 8]\n",
    "\n",
    "neighborhood_size = 5\n",
    "threshold = 4\n",
    "\n",
    "from matplotlib.pyplot import tight_layout\n",
    "import scipy.ndimage as ndimage\n",
    "from skimage.segmentation import watershed\n",
    "from skimage.measure import regionprops\n",
    "from skimage.color import label2rgb\n",
    "\n",
    "viewer = napari.Viewer()\n",
    "\n",
    "areas = [10, 20, 30, 40, 50]\n",
    "ratios = [0.0001, 0.001, 0.01, 0.1, 0.5]\n",
    "\n",
    "area = 40\n",
    "ratio = 0.1\n",
    "\n",
    "_, ax = pl.subplots(5, 2, figsize=(10, 20), dpi=200, tight_layout=True)\n",
    "ax = ax.ravel()\n",
    "\n",
    "import random\n",
    "\n",
    "\n",
    "for i, k in enumerate(random.sample(range(0, len(X_test)), 10)):\n",
    "    test_img = X_test[k]\n",
    "    ground_truth = y_test[k]\n",
    "    prediction = model.predict(np.expand_dims(test_img, 0))[0, :, :, 0]\n",
    "\n",
    "    p_smooth = ndimage.gaussian_filter(prediction, threshold)\n",
    "    p_max = ndimage.maximum_filter(p_smooth, neighborhood_size)\n",
    "    local_maxima = p_smooth == p_max\n",
    "    local_maxima[prediction == 0] = 0\n",
    "    labeled, num_objects = ndimage.label(local_maxima)\n",
    "    xy = np.array(\n",
    "        ndimage.center_of_mass(input=prediction, labels=labeled, index=range(1, num_objects + 1))\n",
    "    )\n",
    "    min_height = 0.3\n",
    "    binary_mask = np.where(prediction >= min_height, 1, 0)\n",
    "    binary_mask = ndimage.binary_fill_holes(binary_mask).astype(int)\n",
    "\n",
    "    labels = watershed(-prediction, labeled, mask=binary_mask)\n",
    "\n",
    "    regions = regionprops(labels)\n",
    "    filtered_regions = np.zeros((prediction.shape[0], prediction.shape[1]), dtype=int)\n",
    "\n",
    "    for region in regions:\n",
    "        if region.area >= area and (\n",
    "            region.axis_minor_length / region.axis_major_length >= ratio\n",
    "        ):\n",
    "            filtered_regions[region.coords[:, 0], region.coords[:, 1]] = region.label\n",
    "            minr, minc, maxr, maxc = region.bbox\n",
    "            bx = (minc, maxc, maxc, minc, minc)\n",
    "            by = (minr, minr, maxr, maxr, minr)\n",
    "            ax[i].plot(bx, by, c=\"limegreen\", lw=1)\n",
    "\n",
    "    ax[i].imshow(test_img[..., :3])\n",
    "    viewer.add_image(ground_truth, blending=\"opaque\", name=f\"img_{i}\")\n",
    "    # viewer.add_labels(filtered_regions, name=f\"img_{i}\")"
   ]
  }
 ],
 "metadata": {
  "kernelspec": {
   "display_name": "Python 3.9.13 ('dap05')",
   "language": "python",
   "name": "python3"
  },
  "language_info": {
   "codemirror_mode": {
    "name": "ipython",
    "version": 3
   },
   "file_extension": ".py",
   "mimetype": "text/x-python",
   "name": "python",
   "nbconvert_exporter": "python",
   "pygments_lexer": "ipython3",
   "version": "3.9.13"
  },
  "orig_nbformat": 4,
  "vscode": {
   "interpreter": {
    "hash": "bf136276df7b73f579d00ffc03546cf27d68eba258d4f2ea564dd7fb6a9dd1fb"
   }
  }
 },
 "nbformat": 4,
 "nbformat_minor": 2
}
